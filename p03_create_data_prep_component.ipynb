{
 "cells": [
  {
   "cell_type": "markdown",
   "metadata": {},
   "source": [
    "# Create component with Python SDK v2\n",
    "\n",
    "This programmatic approach creates a component using the command class. Assumes the input is a single file and output is a folder."
   ]
  },
  {
   "cell_type": "code",
   "execution_count": null,
   "metadata": {},
   "outputs": [],
   "source": [
    "from azure.ai.ml import command\n",
    "from azure.ai.ml import Input, Output\n",
    "\n",
    "data_prep_component = command(\n",
    "    name=\"data_prep_component\",\n",
    "    display_name = \"Data preparation before training\",\n",
    "    description = \"reads a .csv input, normalize features and return prepped data\",\n",
    "\n",
    "    inputs = {\n",
    "        \"input_data\": Input(type=\"urfile\",\n",
    "        path = 'data/diabetes.csv')\n",
    "    },\n",
    "\n",
    "    outputs = dict( # can use a dictionary when returning more than one item\n",
    "        prepped_data = Output(type=\"uri_folder\", mode=\"rw_mount\")\n",
    "    ),\n",
    "\n",
    "    code = \"./component\", # the source folder of the component\n",
    "    command = \"\"\"\n",
    "            python p03_data_prep.py \\\n",
    "                --input_data ${{inputs.input_data}}\\\n",
    "                --prepped_data ${{outputs.prepped_data}}\\\n",
    "            \"\"\",\n",
    "    environment = \"python_env@latest\"\n",
    "    tags = {\"language\":\"python\"}\n",
    ")"
   ]
  },
  {
   "cell_type": "markdown",
   "metadata": {},
   "source": [
    "register the component for future use"
   ]
  },
  {
   "cell_type": "code",
   "execution_count": null,
   "metadata": {},
   "outputs": [],
   "source": [
    "from azure.ai.ml import MLClient\n",
    "from azure.identity import DefaultAzureCredential\n",
    "\n",
    "ml_client = MLClient.from_config(credential=DefaultAzureCredential(), path=\"./\")\n",
    "\n",
    "data_prep_component = ml_client.create_or_update(data_prep_component.component)\n",
    "\n",
    "print(f\"Component {data_prep_component.name} with version {data_prep_component.version} is registered\")\n",
    "\n"
   ]
  },
  {
   "cell_type": "markdown",
   "metadata": {},
   "source": [
    "Code below if reading registered data asset as file and dumping results to folder type"
   ]
  },
  {
   "cell_type": "code",
   "execution_count": null,
   "metadata": {},
   "outputs": [],
   "source": [
    "from azure.ai.ml import command\n",
    "from azure.ai.ml import Input, Output\n",
    "\n",
    "data_prep_component = command(\n",
    "    name=\"data_prep_comp\",\n",
    "    display_name = \"Data preparation before training\",\n",
    "    description = \"readds a .csv input normalize features and return prepped data\",\n",
    "    inputs = {\n",
    "        \"input_data\": Input(type=\"urfile\")\n",
    "    },\n",
    "    outputs = dict(\n",
    "        prepped_data = Output(type=\"uri_folder\", mode=\"rw_mount\")\n",
    "    ),\n",
    "    code = \"./\",\n",
    "    command = \"\"\"\n",
    "            python p03_data_prep.py \\\n",
    "                --input_data ${{inputs.input_data}}\\\n",
    "                --prepped_data ${{outputs.prepped_data}}\\\n",
    "            \"\"\",\n",
    "    environment = \"python_env@latest\"\n",
    ")"
   ]
  }
 ],
 "metadata": {
  "kernelspec": {
   "display_name": "Python 3",
   "language": "python",
   "name": "python3"
  },
  "language_info": {
   "name": "python",
   "version": "3.10.5"
  }
 },
 "nbformat": 4,
 "nbformat_minor": 2
}
