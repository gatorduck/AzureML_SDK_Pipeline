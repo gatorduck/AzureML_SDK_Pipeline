{
 "cells": [
  {
   "cell_type": "markdown",
   "metadata": {},
   "source": [
    "# create component using yaml"
   ]
  },
  {
   "cell_type": "code",
   "execution_count": null,
   "metadata": {},
   "outputs": [],
   "source": [
    "from azure.ai.ml import MLClient\n",
    "from azure.identity import DefaultAzureCredential\n",
    "import os\n",
    "\n",
    "ml_client = MLClient.from_config(credential=DefaultAzureCredential(), path = \"./\")\n",
    "\n",
    "#importing the component package\n",
    "\n",
    "from azure.ai.ml import load_component\n",
    "\n",
    "#loading the component from the yml file\n",
    "\n",
    "train_component = load_component(source=os.path.join(\"p04_training.yaml\"))\n",
    "\n",
    "#now we register the component to the workspace\n",
    "\n",
    "train_component = ml_client.create_or_update(train_component)\n",
    "\n",
    "# create (register) the component in your workspace\n",
    "\n",
    "print(f\"Component {train_component.name} with version {train_component.version} is registered.\")"
   ]
  }
 ],
 "metadata": {
  "language_info": {
   "name": "python"
  }
 },
 "nbformat": 4,
 "nbformat_minor": 2
}
